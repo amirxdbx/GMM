{
 "cells": [
  {
   "cell_type": "code",
   "execution_count": 90,
   "metadata": {},
   "outputs": [
    {
     "name": "stdout",
     "output_type": "stream",
     "text": [
      "Log likelihood based on direct solution of correlation matrix:  94.6987092265451 time=  0.019453048706054688\n",
      "Log likelihood based on Abrahamson's formula:  115.58904037009574 time=  0.0010581016540527344\n",
      "Log likelihood based on Mohammadi's equation:  94.69870970546921 time=  0.0005035400390625\n"
     ]
    }
   ],
   "source": [
    "import pandas as pd \n",
    "import numpy as np \n",
    "import warnings\n",
    "from geneticalgorithm import geneticalgorithm as ga\n",
    "from scipy.optimize import minimize\n",
    "\n",
    "# Suppress all warnings\n",
    "warnings.filterwarnings(\"ignore\")\n",
    "\n",
    "def minimize_loglikelihood(loglik_func, initial_guess):\n",
    "    result = minimize(loglik_func, initial_guess, method='nelder-mead', args=(), tol=1e-6, options={'maxiter': 2e12})\n",
    "    return result.x, result.fun\n",
    "\n",
    "def log_likelihood_direct(xy): # loglikelihod function based on direct solution of correlation matrix \n",
    "    expected=Total_records['muij']\n",
    "    observed=Total_records['yij']\n",
    "    Sigma2=xy[0]\n",
    "    Tau2=xy[1]\n",
    "    Err=np.array(observed-expected).reshape(-1,1)\n",
    "    Err_trans=np.transpose(Err)\n",
    "    locator=0\n",
    "    C=np.zeros((N,N))\n",
    "    for k in range(M):\n",
    "        n=int(events.at[k,'Train_ni'])\n",
    "        for i in range(n):\n",
    "            for j in range(n):\n",
    "                C[locator+i][locator+j]+=Tau2\n",
    "        locator+=n\n",
    "    C+=Sigma2*np.identity(N)\n",
    "\n",
    "    kc=0.1\n",
    "    LN_det_C=-np.inf\n",
    "    while LN_det_C==-np.inf:\n",
    "        det_kC=np.linalg.det(kc*C)\n",
    "        LN_det_C=np.log(det_kC)-N*np.log(kc)\n",
    "        kc+=0.1\n",
    "\n",
    "    Inv_C=np.linalg.inv(C)\n",
    "    LnL=(-0.5*N*np.log(2*np.pi)-0.5*LN_det_C-0.5*np.dot(np.dot(Err_trans,Inv_C),Err))\n",
    "    return -LnL[0][0]\n",
    "\n",
    "def  log_likelihood_abrahamson(xy): \n",
    "    Sigma2=xy[0]\n",
    "    Tau2=xy[1]\n",
    "    ans=-0.5*N*np.log(2*np.pi)-0.5*(N-M)*np.log(Sigma2)-0.5*sum(np.log(Sigma2+events.Train_ni*Tau2))-(0.5/Sigma2)*sum((Total_records['yij']-Total_records['Y_'])**2)-0.5*sum((events.Train_ni*(events.Y_-events.Mu_)**2)/(Sigma2+events.Train_ni*Tau2))\n",
    "    return -ans\n",
    "\n",
    "# New equation\n",
    "def  log_likelihood_mohammadi(xy): \n",
    "    Sigma2=xy[0]\n",
    "    Tau2=xy[1]\n",
    "    ans=-0.5*N*np.log(2*np.pi)-0.5*(N-M)*np.log(Sigma2)-0.5*sum(np.log(Sigma2+events.Train_ni*Tau2))-(0.5/Sigma2)*sum((Total_records['yij']-Total_records['muij'])**2)+(0.5/Sigma2)*sum(((events.Train_ni**2)*Tau2)/(Sigma2+events.Train_ni*Tau2)*(events.Y_-events.Mu_)**2)\n",
    "    return -ans\n",
    "\n",
    "\n",
    "# Define constants and variables\n",
    "xy = (0.5,0.25)\n",
    "Total_records = pd.read_csv('testLL.csv', index_col=0).dropna(axis=1, how='all')\n",
    "Total_records=Total_records.iloc[0:100,:]\n",
    "events = Total_records.drop_duplicates(subset=['Train_i']).reset_index(drop=True)\n",
    "N = len(Total_records)\n",
    "M = len(events)\n",
    "\n",
    "# Compute log likelihood using three different functions\n",
    "import time \n",
    "time1=time.time()\n",
    "ll_direct = log_likelihood_direct(xy)\n",
    "time2=time.time()\n",
    "time_direct=time2-time1\n",
    "time1=time.time()\n",
    "ll_abrahamson = log_likelihood_abrahamson(xy)\n",
    "time2=time.time()\n",
    "time_abrahamson=time2-time1\n",
    "time1=time.time()\n",
    "ll_mohammadi = log_likelihood_mohammadi(xy)\n",
    "time2=time.time()\n",
    "time_mohammadi=time2-time1\n",
    "# Print results\n",
    "print(\"Log likelihood based on direct solution of correlation matrix: \", ll_direct, 'time= ', time_direct)\n",
    "print(\"Log likelihood based on Abrahamson's formula: \", ll_abrahamson, 'time= ', time_abrahamson)\n",
    "print(\"Log likelihood based on Mohammadi's equation: \", ll_mohammadi, 'time= ', time_mohammadi)"
   ]
  },
  {
   "cell_type": "code",
   "execution_count": 91,
   "metadata": {},
   "outputs": [
    {
     "name": "stdout",
     "output_type": "stream",
     "text": [
      "Minimized Log likelihood based on Mohammadi's equation:  (array([0.25798872, 0.00881386]), 75.794181863673)\n"
     ]
    }
   ],
   "source": [
    "# Solution with Mohammadi's Equation\n",
    "initial_guess = (0.5, 0.25)\n",
    "result_Mohammadi = minimize_loglikelihood(log_likelihood_mohammadi, initial_guess)\n",
    "print(\"Minimized Log likelihood based on Mohammadi's equation: \", result_Mohammadi)"
   ]
  },
  {
   "cell_type": "code",
   "execution_count": 92,
   "metadata": {},
   "outputs": [
    {
     "name": "stdout",
     "output_type": "stream",
     "text": [
      "Minimized Log likelihood based on direct solution of correlation matrix:  (array([0.25798891, 0.00881413]), 75.79418167349567)\n"
     ]
    }
   ],
   "source": [
    "# Solution with Direct Equation\n",
    "result_direct = minimize_loglikelihood(log_likelihood_direct, initial_guess)\n",
    "print(\"Minimized Log likelihood based on direct solution of correlation matrix: \", result_direct)"
   ]
  },
  {
   "cell_type": "code",
   "execution_count": 93,
   "metadata": {},
   "outputs": [
    {
     "name": "stdout",
     "output_type": "stream",
     "text": [
      "Minimized Log likelihood based on Abrahamson Equation:  (array([ 0.49432233, -0.02252083]), 104.22577547520191)\n"
     ]
    }
   ],
   "source": [
    "# Solution with Abrahamson Equation\n",
    "result_abrahamson = minimize_loglikelihood(log_likelihood_abrahamson, initial_guess)\n",
    "print(\"Minimized Log likelihood based on Abrahamson Equation: \", result_abrahamson)"
   ]
  }
 ],
 "metadata": {
  "kernelspec": {
   "display_name": "amir",
   "language": "python",
   "name": "python3"
  },
  "language_info": {
   "codemirror_mode": {
    "name": "ipython",
    "version": 3
   },
   "file_extension": ".py",
   "mimetype": "text/x-python",
   "name": "python",
   "nbconvert_exporter": "python",
   "pygments_lexer": "ipython3",
   "version": "3.8.13"
  },
  "orig_nbformat": 4
 },
 "nbformat": 4,
 "nbformat_minor": 2
}
